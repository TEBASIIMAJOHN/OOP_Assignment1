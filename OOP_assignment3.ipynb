{
 "cells": [
  {
   "cell_type": "markdown",
   "id": "66cbf767",
   "metadata": {},
   "source": [
    "Question 1"
   ]
  },
  {
   "cell_type": "code",
   "execution_count": 3,
   "id": "3a38ac19",
   "metadata": {},
   "outputs": [
    {
     "name": "stdout",
     "output_type": "stream",
     "text": [
      "   Vehicle Tax Calculations    \n",
      "\n",
      "John Tebasiima's Car (UAY123A): UGX 300,090\n",
      "Kato Moses's Truck (UBF999K): UGX 500,800\n",
      "Sarah Namara's Motorbike (UDF450T): UGX 120,000\n"
     ]
    }
   ],
   "source": [
    "# Creating Parent Class Vehicle\n",
    "class Vehicle:\n",
    "    def __init__(self, plate_number, owner, engine_cc, base_tax):\n",
    "        self.plate_number = plate_number\n",
    "        self.owner = owner\n",
    "        self.engine_cc = engine_cc\n",
    "        self.base_tax = base_tax\n",
    "\n",
    "    def calculate_tax(self):\n",
    "        return self.base_tax \n",
    "    \n",
    "# Creating Child Classes\n",
    "class Car(Vehicle):\n",
    "    def __init__(self, plate_number, owner, engine_cc, base_tax, passenger_capacity):\n",
    "        super().__init__(plate_number, owner, engine_cc, base_tax)\n",
    "        self.passenger_capacity = passenger_capacity\n",
    "    def calculate_tax(self):\n",
    "        try:\n",
    "            return self.base_tax + (self.engine_cc * 0.05)\n",
    "        except TypeError:\n",
    "            raise ValueError(\"Engine cc must be a number\")\n",
    "\n",
    "class Truck(Vehicle):\n",
    "    def __init__(self, plate_number, owner, engine_cc, base_tax, load_capacity):\n",
    "        super().__init__(plate_number, owner, engine_cc, base_tax)\n",
    "        self.load_capacity = load_capacity\n",
    "    def calculate_tax(self):\n",
    "        try:\n",
    "            return self.base_tax + (self.load_capacity * 0.1) \n",
    "        except TypeError:\n",
    "            raise ValueError(\"Engine cc and load capacity must be numbers\")\n",
    "class Motorbike(Vehicle):\n",
    "    def __init__(self, plate_number, owner, engine_cc, base_tax, type):\n",
    "        super().__init__(plate_number, owner, engine_cc, base_tax)\n",
    "        self.type = type\n",
    "    def calculate_tax(self):\n",
    "        return self.base_tax + 20000\n",
    "\n",
    "  # Creating instances and demonstrating polymorphism      \n",
    "try:\n",
    "    vehicles = [\n",
    "        Car(\"UAY123A\", \"John Tebasiima\", 1800, 300000, 5),\n",
    "        Truck(\"UBF999K\", \"Kato Moses\", 3000, 500000, 8000),\n",
    "        Motorbike(\"UDF450T\", \"Sarah Namara\", 150, 100000, \"boda\")\n",
    "    ]\n",
    "\n",
    "    # Demonstrate polymorphism\n",
    "    print(\"   Vehicle Tax Calculations    \\n\")\n",
    "    for v in vehicles:\n",
    "        print(f\"{v.owner}'s {v.__class__.__name__} ({v.plate_number}): UGX {v.calculate_tax():,.0f}\")\n",
    "\n",
    "except Exception as e:\n",
    "    print(f\"Error creating vehicles: {e}\")\n"
   ]
  },
  {
   "cell_type": "markdown",
   "id": "d857333e",
   "metadata": {},
   "source": [
    "Saving records as JSON file"
   ]
  },
  {
   "cell_type": "code",
   "execution_count": null,
   "id": "8faed2c5",
   "metadata": {},
   "outputs": [],
   "source": []
  }
 ],
 "metadata": {
  "kernelspec": {
   "display_name": "base",
   "language": "python",
   "name": "python3"
  },
  "language_info": {
   "codemirror_mode": {
    "name": "ipython",
    "version": 3
   },
   "file_extension": ".py",
   "mimetype": "text/x-python",
   "name": "python",
   "nbconvert_exporter": "python",
   "pygments_lexer": "ipython3",
   "version": "3.12.4"
  }
 },
 "nbformat": 4,
 "nbformat_minor": 5
}
