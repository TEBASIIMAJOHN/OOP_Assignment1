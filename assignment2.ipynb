{
 "cells": [
  {
   "cell_type": "markdown",
   "id": "2c186288-41e5-4adf-bdd6-8aca356134b6",
   "metadata": {},
   "source": [
    "<center><b>John Tebasiima B35101 Msc. Data science</b></center>"
   ]
  },
  {
   "cell_type": "markdown",
   "id": "9b4ac770-4656-4acf-922a-3e637e6e046c",
   "metadata": {},
   "source": [
    "<center> <b>Question 1</b></center>"
   ]
  },
  {
   "cell_type": "code",
   "execution_count": 3,
   "id": "a39a3f1b-3b5a-41dd-836e-9a5a14bbe436",
   "metadata": {},
   "outputs": [
    {
     "name": "stdout",
     "output_type": "stream",
     "text": [
      "Customer bills:\n",
      "Bosco: UGX 200,900\n",
      "Jane: UGX 600,000\n",
      "Ali: UGX 287,000\n",
      "Sarah: UGX 800,000\n",
      "Emma: UGX 98,400\n",
      "Ivan: UGX 950,000\n",
      "Grace: UGX 393,600\n",
      "Paul: UGX 246,000\n",
      "Kevin: UGX 720,000\n",
      "Diana: UGX 328,000\n"
     ]
    }
   ],
   "source": [
    "# Q1: Electricity Billing Optimization\n",
    "\n",
    "# Sample dataset\n",
    "customer_name = ['Bosco', 'Jane', 'Ali', 'Sarah', 'Emma', 'Ivan', 'Grace', 'Paul', 'Kevin', 'Diana']\n",
    "units_used = [245, 600, 350, 800, 120, 950, 480, 300, 720, 400]\n",
    "connection_type = ['Domestic', 'Commercial', 'Domestic', 'Commercial', 'Domestic', \n",
    "                   'Commercial', 'Domestic', 'Domestic', 'Commercial', 'Domestic']\n",
    "\n",
    "# 1.1 Compute total bills using zip(), map(), and a lambda function\n",
    "# Domestic rate = 820 UGX/unit; Commercial rate = 1000 UGX/unit\n",
    "\n",
    "bills = list(\n",
    "    map(\n",
    "        lambda data: data[1]*820 if data[2] == 'Domestic' else data[1]*1000,\n",
    "        zip(customer_name, units_used, connection_type)\n",
    "    )\n",
    ")\n",
    "\n",
    "# Combine customer names with their bills using zip()\n",
    "customer_bills = list(zip(customer_name, bills))\n",
    "\n",
    "print(\"Customer bills:\")\n",
    "for name, bill in customer_bills:\n",
    "    print(f\"{name}: UGX {bill:,}\") # using f strings for string formatting\n"
   ]
  },
  {
   "cell_type": "code",
   "execution_count": 5,
   "id": "ba7ffbb5-59e0-49d2-b403-4be0ad3e1eca",
   "metadata": {},
   "outputs": [
    {
     "name": "stdout",
     "output_type": "stream",
     "text": [
      "\n",
      "High-consumption customers (units > 500):\n",
      "Jane - 600 units\n",
      "Sarah - 800 units\n",
      "Ivan - 950 units\n",
      "Kevin - 720 units\n"
     ]
    }
   ],
   "source": [
    "# 1.2 Use filter() to separate high-consumption customers\n",
    "\n",
    "high_consumers = list(\n",
    "    filter(\n",
    "        lambda data: data[1] > 500,\n",
    "        zip(customer_name, units_used)\n",
    "    )\n",
    ")\n",
    "\n",
    "print(\"\\nHigh-consumption customers (units > 500):\")\n",
    "for name, units in high_consumers:\n",
    "    print(f\"{name} - {units} units\")\n"
   ]
  },
  {
   "cell_type": "code",
   "execution_count": 7,
   "id": "4c3e30d4-ad99-4a20-8de3-b663ff0e9533",
   "metadata": {},
   "outputs": [
    {
     "name": "stdout",
     "output_type": "stream",
     "text": [
      "\n",
      "Average bill: UGX 462,390\n"
     ]
    }
   ],
   "source": [
    "# 1.3 Define function to compute average bill\n",
    "\n",
    "def average_bill(*bills): # using args here since bills can take on a number of arguments\n",
    "    return sum(bills) / len(bills)\n",
    "\n",
    "avg = average_bill(*bills)\n",
    "print(f\"\\nAverage bill: UGX {avg:,.0f}\")\n"
   ]
  },
  {
   "cell_type": "code",
   "execution_count": 9,
   "id": "f88513c9-c251-4fcf-b989-66429c62dfad",
   "metadata": {},
   "outputs": [
    {
     "name": "stdout",
     "output_type": "stream",
     "text": [
      "\n",
      "Formatted Results:\n",
      "['Bosco: UGX 200,900', 'Jane: UGX 600,000', 'Ali: UGX 287,000', 'Sarah: UGX 800,000', 'Emma: UGX 98,400', 'Ivan: UGX 950,000', 'Grace: UGX 393,600', 'Paul: UGX 246,000', 'Kevin: UGX 720,000', 'Diana: UGX 328,000']\n"
     ]
    }
   ],
   "source": [
    "# 1.4 Display results in formatted list comprehension\n",
    "\n",
    "formatted_bills = [f\"{name}: UGX {bill:,}\" for name, bill in customer_bills]\n",
    "print(\"\\nFormatted Results:\")\n",
    "print(formatted_bills)\n"
   ]
  },
  {
   "cell_type": "markdown",
   "id": "b58b5d84-ce66-4a81-aa2d-0b15d8a48481",
   "metadata": {},
   "source": []
  },
  {
   "cell_type": "markdown",
   "id": "60ed8ed9-3ace-4567-bef5-49a1a575179e",
   "metadata": {},
   "source": [
    "<center> <b>Question 2</b></center>"
   ]
  },
  {
   "cell_type": "code",
   "execution_count": 12,
   "id": "2ec0d194-4310-4c23-b845-b64524fc77d6",
   "metadata": {},
   "outputs": [
    {
     "name": "stdout",
     "output_type": "stream",
     "text": [
      "Zipped Prices (Handling Missing Data):\n",
      "Day 1: (2500, 3000, 4500)\n",
      "Day 2: (2700, 3200, 4600)\n",
      "Day 3: (2600, 3100, 4550)\n",
      "Day 4: (2800, 3050, 4700)\n"
     ]
    }
   ],
   "source": [
    "from itertools import zip_longest #importing zip_longest method\n",
    "\n",
    "# Daily fruit prices from different vendors\n",
    "mango_prices = [2500, 2700, 2600, 2800]\n",
    "orange_prices = [3000, 3200, 3100, 3050]\n",
    "apple_prices  = [4500, 4600, 4550, 4700]\n",
    "\n",
    "# 2.1 Use zip_longest() to handle missing prices\n",
    "# (In case some lists are shorter, missing values will be filled with None or a specified value)\n",
    "\n",
    "zipped_prices = list(zip_longest(mango_prices, orange_prices, apple_prices, fillvalue=None))\n",
    "\n",
    "print(\"Zipped Prices (Handling Missing Data):\")\n",
    "for day, prices in enumerate(zipped_prices, start=1):\n",
    "    print(f\"Day {day}: {prices}\")\n"
   ]
  },
  {
   "cell_type": "code",
   "execution_count": 14,
   "id": "40168ebe-35ca-4636-b7dc-af2f0bcbb34d",
   "metadata": {},
   "outputs": [
    {
     "name": "stdout",
     "output_type": "stream",
     "text": [
      "\n",
      "Average Price per Fruit:\n",
      "Mango: UGX 2,650\n",
      "Orange: UGX 3,088\n",
      "Apple: UGX 4,588\n"
     ]
    }
   ],
   "source": [
    "# 2.2 Define a lambda function for average\n",
    "avg = lambda lst: sum(lst) / len(lst)\n",
    "\n",
    "# Compute average prices for each fruit\n",
    "fruit_avgs = {\n",
    "    'Mango': avg(mango_prices),\n",
    "    'Orange': avg(orange_prices),\n",
    "    'Apple': avg(apple_prices)\n",
    "}\n",
    "\n",
    "print(\"\\nAverage Price per Fruit:\")\n",
    "for fruit, price in fruit_avgs.items():\n",
    "    print(f\"{fruit}: UGX {price:,.0f}\") # using f strings to print averages to zero decimal place\n"
   ]
  },
  {
   "cell_type": "code",
   "execution_count": 16,
   "id": "8f001b1f-2768-4280-a4d7-cbb5c2886c5b",
   "metadata": {},
   "outputs": [],
   "source": [
    "# 2.3 Create a generator that yields fruits with average price above 3000\n",
    "\n",
    "above_avg_gen = (fruit for fruit, price in fruit_avgs.items() if price > 3000)\n"
   ]
  },
  {
   "cell_type": "code",
   "execution_count": 18,
   "id": "bb4f24b7-8d96-4a5b-886a-51e0c1baccfa",
   "metadata": {},
   "outputs": [
    {
     "name": "stdout",
     "output_type": "stream",
     "text": [
      "\n",
      "Fruits Above Average Price:\n",
      "Orange, Apple\n"
     ]
    }
   ],
   "source": [
    "# 2.4 Print the generator’s results neatly\n",
    "\n",
    "fruits_above_avg = list(above_avg_gen)\n",
    "\n",
    "print(\"\\nFruits Above Average Price:\")\n",
    "print(\", \".join(fruits_above_avg))   #joins the list into a single readable string\n"
   ]
  },
  {
   "cell_type": "markdown",
   "id": "15f61236-c65d-48d1-a73b-117bc32d8052",
   "metadata": {},
   "source": []
  },
  {
   "cell_type": "markdown",
   "id": "3b17782e-fb78-44d5-af5f-18dd3cbc56d9",
   "metadata": {},
   "source": [
    "<center><b>Question 3</b></center>"
   ]
  },
  {
   "cell_type": "code",
   "execution_count": 41,
   "id": "c787bef0-b9eb-4241-b2d3-70b3f14cd5a9",
   "metadata": {},
   "outputs": [
    {
     "data": {
      "text/plain": [
       "[72.6, 74.4, 74.4, 76.2, 78.0, 78.0, 79.8, 81.6, 81.6, 79.8, 76.2, 74.4]"
      ]
     },
     "execution_count": 41,
     "metadata": {},
     "output_type": "execute_result"
    }
   ],
   "source": [
    "kampala = [28,30,29,27,26,29,30,31,30,29,28]\n",
    "gulu = [25,26,27,27,28,29,30,30,29,27,26,25]\n",
    "mbarara = [22,23,23,24,25,25,26,27,27,26,24,23]\n",
    "\n",
    "#months\n",
    "months= [\"Jan\",\"Feb\",\"Mar\",\"Apr\",\"May\",\"Jun\",\"Jul\",\"Aug\",\"Sep\",\"Oct\",\"Nov\",\"Dec\"]\n",
    "\n",
    "# 3.1 use map() with lambda to convert all temperatures to Fahrenheit\n",
    "to_fahrenheit = lambda x: (9*x/5) + 33\n",
    "\n",
    "kampala_f = list(map(to_fahrenheit, kampala))\n",
    "gulu_f =list(map(to_fahrenheit, gulu))\n",
    "mbarara_f =list(map(to_fahrenheit, mbarara))\n",
    "mbarara_f # displaying mbarara converted temperatures"
   ]
  },
  {
   "cell_type": "code",
   "execution_count": 35,
   "id": "4e218831-fcd2-4a51-bed2-b5cbc2570dd7",
   "metadata": {},
   "outputs": [
    {
     "data": {
      "text/plain": [
       "[('Jan', 28),\n",
       " ('Feb', 30),\n",
       " ('Mar', 29),\n",
       " ('Apr', 27),\n",
       " ('May', 26),\n",
       " ('Jun', 29),\n",
       " ('Jul', 30),\n",
       " ('Aug', 31),\n",
       " ('Sep', 30),\n",
       " ('Oct', 29),\n",
       " ('Nov', 28)]"
      ]
     },
     "execution_count": 35,
     "metadata": {},
     "output_type": "execute_result"
    }
   ],
   "source": [
    "# 3.2 Use zip() to pair months (Jan - Dec) with Kampala temps\n",
    "\n",
    "monthly_kampala = list(zip(months, kampala))\n",
    "monthly_kampala # displaying kampala monthly distribution"
   ]
  },
  {
   "cell_type": "code",
   "execution_count": 43,
   "id": "bd457843-7092-4871-895e-5190350162ca",
   "metadata": {},
   "outputs": [
    {
     "name": "stdout",
     "output_type": "stream",
     "text": [
      "The hot temperatures in kampala are [('Aug', 31)]\n"
     ]
    }
   ],
   "source": [
    "#3.3 use filter() to identify months with temperature >30c\n",
    "\n",
    "hot_months = list(filter(lambda x: x[1] > 30, monthly_kampala ))\n",
    "print(f\"The hot temperatures in kampala are {hot_months}\")"
   ]
  },
  {
   "cell_type": "code",
   "execution_count": 45,
   "id": "ccdea45b-4aac-40c5-9d64-c7676a0153d2",
   "metadata": {},
   "outputs": [
    {
     "name": "stdout",
     "output_type": "stream",
     "text": [
      "\n",
      "Hot months in Kampala:\n",
      "Aug - 31°C\n"
     ]
    }
   ],
   "source": [
    "#3.4 Create a generator to yield month names and temperatures above threshold\n",
    "\n",
    "hot_months_gen = (f\"{month} - {temp}°C\" for month, temp in monthly_kampala if temp > 30)\n",
    "\n",
    "#3.5 Print neatly\n",
    "\n",
    "print(\"\\nHot months in Kampala:\")\n",
    "print(\", \".join(hot_months_gen))"
   ]
  },
  {
   "cell_type": "markdown",
   "id": "5bc780fc-516e-43fd-931f-b73aa94f354f",
   "metadata": {},
   "source": []
  },
  {
   "cell_type": "markdown",
   "id": "92dac03d-9a27-49da-a094-42818eeea4b8",
   "metadata": {},
   "source": [
    "<center><b>Question 4</b></center>"
   ]
  },
  {
   "cell_type": "code",
   "execution_count": 71,
   "id": "60e6fe67-6a65-44b0-b3b3-fbfa2ab61406",
   "metadata": {},
   "outputs": [],
   "source": [
    "# Installment data\n",
    "students = ['Alex', 'Grace', 'Sarah', 'Brian']\n",
    "installments = [\n",
    "    [150000, 200000, 250000],\n",
    "    [500000, 0, 200000],\n",
    "    [300000, 300000, 300000],\n",
    "    [400000, 100000, 0]\n",
    "]\n",
    "\n",
    "#4.1 Lambda to sum valid payments (ignore zeros)\n",
    "\n",
    "valid_sum = lambda payments: sum(filter(lambda x: x > 0, payments))\n"
   ]
  },
  {
   "cell_type": "code",
   "execution_count": 73,
   "id": "2e7b9301-989f-44b6-88bc-0410c9437315",
   "metadata": {},
   "outputs": [
    {
     "name": "stdout",
     "output_type": "stream",
     "text": [
      "Total payments per student: [600000, 700000, 900000, 500000]\n"
     ]
    }
   ],
   "source": [
    "#4.2 Use map() to compute total paid by each student\n",
    "totals = list(map(valid_sum, installments))\n",
    "print(\"Total payments per student:\", totals)\n"
   ]
  },
  {
   "cell_type": "code",
   "execution_count": 75,
   "id": "a2abb36b-825b-44ce-94b3-0d85e3cee48e",
   "metadata": {},
   "outputs": [
    {
     "name": "stdout",
     "output_type": "stream",
     "text": [
      "\n",
      "Student totals: [('Alex', 600000), ('Grace', 700000), ('Sarah', 900000), ('Brian', 500000)]\n"
     ]
    }
   ],
   "source": [
    "#4.3 Combine student names and totals using zip()\n",
    "\n",
    "student_totals = list(zip(students, totals))\n",
    "print(\"\\nStudent totals:\", student_totals)"
   ]
  },
  {
   "cell_type": "code",
   "execution_count": 77,
   "id": "7776102d-a587-4a1f-a1b2-253b70c3bf27",
   "metadata": {},
   "outputs": [
    {
     "name": "stdout",
     "output_type": "stream",
     "text": [
      "\n",
      "Students who cleared full fees: [('Alex', 600000), ('Grace', 700000), ('Sarah', 900000)]\n"
     ]
    }
   ],
   "source": [
    "#4.4 Use filter() to find students who cleared full fees (≥ 600,000)\n",
    "cleared_students = list(filter(lambda x: x[1] >= 600000, student_totals))\n",
    "print(\"\\nStudents who cleared full fees:\", cleared_students)"
   ]
  },
  {
   "cell_type": "code",
   "execution_count": 79,
   "id": "8e6ed8ff-72b3-4f25-90f3-d9368c42bf00",
   "metadata": {},
   "outputs": [
    {
     "name": "stdout",
     "output_type": "stream",
     "text": [
      "\n",
      "--- Payment Summary ---\n",
      "Alex: UGX 600,000\n",
      "Grace: UGX 700,000\n",
      "Sarah: UGX 900,000\n"
     ]
    }
   ],
   "source": [
    "#4.5 Define payment_summary(**kwargs) to print named summaries\n",
    "\n",
    "def payment_summary(**kwargs):\n",
    "    print(\"\\n--- Payment Summary ---\")\n",
    "    for name, amount in kwargs.items():\n",
    "        print(f\"{name}: UGX {amount:,}\")\n",
    "\n",
    "# Convert cleared_students list to kwargs format\n",
    "cleared_dict = dict(cleared_students)\n",
    "\n",
    "# Call the function\n",
    "payment_summary(**cleared_dict)"
   ]
  },
  {
   "cell_type": "markdown",
   "id": "95e91329-67ff-44bf-be25-4dda5caa9ae4",
   "metadata": {},
   "source": []
  },
  {
   "cell_type": "markdown",
   "id": "9db62505-41b4-4646-9932-a6b6e7a6678e",
   "metadata": {},
   "source": [
    "<center><b>Question 5</b></center>"
   ]
  },
  {
   "cell_type": "code",
   "execution_count": 82,
   "id": "7ed3f6f4-83d0-4c30-bb7a-aa23aa36955d",
   "metadata": {},
   "outputs": [
    {
     "name": "stdout",
     "output_type": "stream",
     "text": [
      "Yields in tons: [1.2, 1.5, 0.9, 1.3]\n"
     ]
    }
   ],
   "source": [
    "# Q5: Agricultural Yield Estimator\n",
    "\n",
    "# Yield data (in kilograms)\n",
    "districts = ['Bushenyi', 'Mityana', 'Kasese', 'Mbale']\n",
    "yield_data = [1200, 1500, 900, 1300]\n",
    "\n",
    "# 5.1 Convert yields from kg to tons using list comprehension and lambda\n",
    "kg_to_ton = lambda kg: kg / 1000\n",
    "\n",
    "yield_tons = [kg_to_ton(y) for y in yield_data]\n",
    "print(\"Yields in tons:\", yield_tons)\n"
   ]
  },
  {
   "cell_type": "code",
   "execution_count": 84,
   "id": "cd42463c-14d1-4909-a257-268bdf5a7d63",
   "metadata": {},
   "outputs": [
    {
     "name": "stdout",
     "output_type": "stream",
     "text": [
      "\n",
      "Districts with yields > 1 ton: [('Bushenyi', 1.2), ('Mityana', 1.5), ('Mbale', 1.3)]\n"
     ]
    }
   ],
   "source": [
    "#5.2 Generator to yield districts with yield > 1 ton\n",
    "def high_yield_gen(districts, yields):\n",
    "    for d, y in zip(districts, yields):\n",
    "        if y > 1:\n",
    "            yield d, y\n",
    "\n",
    "high_yield = list(high_yield_gen(districts, yield_tons))\n",
    "print(\"\\nDistricts with yields > 1 ton:\", high_yield)"
   ]
  },
  {
   "cell_type": "code",
   "execution_count": 86,
   "id": "3c921818-0137-46e8-9aa5-ddf1335fdbc0",
   "metadata": {},
   "outputs": [
    {
     "name": "stdout",
     "output_type": "stream",
     "text": [
      "\n",
      "Average yield across all districts: 1.23 tons\n"
     ]
    }
   ],
   "source": [
    "# 5.3 Use *args to compute average yield\n",
    "def average_yield(*args):\n",
    "    return sum(args) / len(args)\n",
    "\n",
    "avg = average_yield(*yield_tons)\n",
    "print(f\"\\nAverage yield across all districts: {avg:.2f} tons\")"
   ]
  },
  {
   "cell_type": "code",
   "execution_count": 90,
   "id": "3c404157-c79f-404d-ba50-26b924a3fd3a",
   "metadata": {},
   "outputs": [
    {
     "name": "stdout",
     "output_type": "stream",
     "text": [
      "\n",
      "District Revenue Summary\n",
      "Bushenyi produced 1.2 tons — Revenue: UGX 6,000,000\n",
      "Mityana produced 1.5 tons — Revenue: UGX 7,200,000\n",
      "Kasese produced 0.9 tons — Revenue: UGX 4,500,000\n",
      "Mbale produced 1.3 tons — Revenue: UGX 5,850,000\n"
     ]
    }
   ],
   "source": [
    "# 5.4 Use **kwargs to simulate price changes per district and compute revenue\n",
    "\n",
    "def compute_revenue(**kwargs):\n",
    "    print(\"\\nDistrict Revenue Summary\")\n",
    "    for district, price in kwargs.items():\n",
    "        # Get corresponding yield in tons\n",
    "        index = districts.index(district)\n",
    "        tons = yield_tons[index]\n",
    "        revenue = tons * price\n",
    "        print(f\"{district} produced {tons:.1f} tons — Revenue: UGX {revenue:,.0f}\")\n",
    "\n",
    "# Simulated price per ton (UGX)\n",
    "prices = {\n",
    "    'Bushenyi': 5_000_000,\n",
    "    'Mityana': 4_800_000,\n",
    "    'Kasese': 5_000_000,\n",
    "    'Mbale': 4_500_000\n",
    "}\n",
    "\n",
    "# 5.5 Print formatted output \n",
    "compute_revenue(**prices)\n"
   ]
  },
  {
   "cell_type": "markdown",
   "id": "8b400204-6e30-4c18-a647-93e135be12f7",
   "metadata": {},
   "source": []
  },
  {
   "cell_type": "markdown",
   "id": "72effc4f-0be2-4dc9-9708-c000cb42b3a8",
   "metadata": {},
   "source": [
    "<center><b>Question 6</b></center>"
   ]
  },
  {
   "cell_type": "code",
   "execution_count": 93,
   "id": "4e2d8b7c-8d22-4127-9f30-825d515f25d1",
   "metadata": {},
   "outputs": [
    {
     "name": "stdout",
     "output_type": "stream",
     "text": [
      "Status Results:\n",
      " {'https://ucu.ac.ug': 200, 'https://harba.ug': None, 'https://www.bou.or.ug': 200}\n"
     ]
    }
   ],
   "source": [
    "#Web Data Aggregation\n",
    "\n",
    "import requests\n",
    "\n",
    "# Given list of sites\n",
    "sites = ['https://ucu.ac.ug', 'https://harba.ug', 'https://www.bou.or.ug']\n",
    "\n",
    "# 6.1 Function to take *urls and return response codes\n",
    "\n",
    "def check_sites(*urls):\n",
    "    results = {}\n",
    "    for url in urls:\n",
    "        try:\n",
    "            response = requests.get(url, timeout=5)\n",
    "            results[url] = response.status_code\n",
    "        except requests.exceptions.RequestException:\n",
    "            results[url] = None  # None if unreachable\n",
    "    return results\n",
    "\n",
    "# Test function\n",
    "status_results = check_sites(*sites)\n",
    "print(\"Status Results:\\n\", status_results)"
   ]
  },
  {
   "cell_type": "code",
   "execution_count": 95,
   "id": "2521f091-f932-4db5-804c-6682214b8534",
   "metadata": {},
   "outputs": [
    {
     "name": "stdout",
     "output_type": "stream",
     "text": [
      "\n",
      "Active sites (status 200):\n",
      "['https://ucu.ac.ug', 'https://www.bou.or.ug']\n"
     ]
    }
   ],
   "source": [
    "# 6.2 List comprehension to filter only status code 200\n",
    "active_sites = [url for url, code in status_results.items() if code == 200]\n",
    "print(\"\\nActive sites (status 200):\")\n",
    "print(active_sites)"
   ]
  },
  {
   "cell_type": "code",
   "execution_count": 97,
   "id": "3f202694-ba9a-4f86-8750-7937b4bda24c",
   "metadata": {},
   "outputs": [
    {
     "name": "stdout",
     "output_type": "stream",
     "text": [
      "\n",
      "Site status dictionary:\n",
      "{'https://ucu.ac.ug': 'Active', 'https://harba.ug': 'Inactive', 'https://www.bou.or.ug': 'Active'}\n"
     ]
    }
   ],
   "source": [
    "# 6.3 Dictionary comprehension to store results\n",
    "site_dict = {url: ('Active' if code == 200 else 'Inactive') for url, code in status_results.items()}\n",
    "print(\"\\nSite status dictionary:\")\n",
    "print(site_dict)"
   ]
  },
  {
   "cell_type": "code",
   "execution_count": 99,
   "id": "da43edab-f3fc-463e-a48f-436695c177ca",
   "metadata": {},
   "outputs": [
    {
     "name": "stdout",
     "output_type": "stream",
     "text": [
      "\n",
      "Generator Output:\n",
      "Active Site: https://ucu.ac.ug\n",
      "Active Site: https://www.bou.or.ug\n"
     ]
    }
   ],
   "source": [
    "# 6.4 Generator expression to yield active sites \n",
    "active_gen = (f\"Active Site: {url}\" for url, code in status_results.items() if code == 200)\n",
    "\n",
    "print(\"\\nGenerator Output:\")\n",
    "for site in active_gen:\n",
    "    print(site)"
   ]
  },
  {
   "cell_type": "code",
   "execution_count": null,
   "id": "db5514a3-715e-4d43-8a0f-5ea7dca811d4",
   "metadata": {},
   "outputs": [],
   "source": []
  }
 ],
 "metadata": {
  "kernelspec": {
   "display_name": "Python 3 (ipykernel)",
   "language": "python",
   "name": "python3"
  },
  "language_info": {
   "codemirror_mode": {
    "name": "ipython",
    "version": 3
   },
   "file_extension": ".py",
   "mimetype": "text/x-python",
   "name": "python",
   "nbconvert_exporter": "python",
   "pygments_lexer": "ipython3",
   "version": "3.12.4"
  }
 },
 "nbformat": 4,
 "nbformat_minor": 5
}
